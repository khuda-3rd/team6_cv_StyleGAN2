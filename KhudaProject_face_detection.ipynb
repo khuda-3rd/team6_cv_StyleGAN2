{
 "cells": [
  {
   "cell_type": "code",
   "execution_count": null,
   "id": "62b77535",
   "metadata": {},
   "outputs": [],
   "source": [
    "import os\n",
    "import cv2"
   ]
  },
  {
   "cell_type": "code",
   "execution_count": null,
   "id": "29e0cfce",
   "metadata": {},
   "outputs": [],
   "source": [
    "in_path = ''\n",
    "out_path = ''\n",
    "file_names = os.listdir(in_path)\n",
    "\n",
    "# Read the input image\n",
    "i = 0\n",
    "for file in file_names:\n",
    "    img = cv2.imread(in_path+'/'+file)\n",
    "\n",
    "    # Convert into grayscale\n",
    "    gray = cv2.cvtColor(img, cv2.COLOR_BGR2GRAY)\n",
    "\n",
    "    # Load the cascade\n",
    "    face_cascade = cv2.CascadeClassifier(cv2.data.haarcascades + 'haarcascade_frontalface_default.xml')\n",
    "\n",
    "    # Detect faces\n",
    "    faces = face_cascade.detectMultiScale(gray, 1.5, 4)\n",
    "\n",
    "\n",
    "    # Draw rectangle around the faces and crop the faces\n",
    "\n",
    "    for (x, y, w, h) in faces:\n",
    "        if h>w:\n",
    "            margin_h = h/6\n",
    "            margin_w = (h-w)/2 + margin_h\n",
    "        else:\n",
    "            margin_w = w/6\n",
    "            margin_h = (-1)*(h-w)/2 + margin_w\n",
    "        \n",
    "        if y-margin_h <= 0:\n",
    "            margin_h = y\n",
    "        if x-margin_w <= 0:\n",
    "            margin_w = x\n",
    "        \n",
    "        if h > 200:\n",
    "\n",
    "            #cv2.rectangle(img, (x - margin_w, y - margin_h), (x+w + margin_w, y+h + margin_h), (0, 0, 255), 2)\n",
    "            faces = img[int(y - margin_h):int(y + h + margin_h), int(x - margin_w):int(x + w + margin_w)]\n",
    "            # cv2.imshow(\"face\",faces)\n",
    "            cv2.imwrite(out_path+'/instaface_'+str(i)+'.jpg', faces)\n",
    "            \n",
    "    i += 1\n",
    "    # Display the output\n",
    "    # cv2.imwrite('detcted.jpg', img)\n",
    "    # cv2.imshow('img', img)\n",
    "    # cv2.waitKey()\n"
   ]
  }
 ],
 "metadata": {
  "kernelspec": {
   "display_name": "Python 3 (ipykernel)",
   "language": "python",
   "name": "python3"
  },
  "language_info": {
   "codemirror_mode": {
    "name": "ipython",
    "version": 3
   },
   "file_extension": ".py",
   "mimetype": "text/x-python",
   "name": "python",
   "nbconvert_exporter": "python",
   "pygments_lexer": "ipython3",
   "version": "3.9.13"
  }
 },
 "nbformat": 4,
 "nbformat_minor": 5
}

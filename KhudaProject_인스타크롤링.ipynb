{
 "cells": [
  {
   "cell_type": "markdown",
   "id": "4629f89f",
   "metadata": {},
   "source": [
    "Selenium 3.14.1 사용\n"
   ]
  },
  {
   "cell_type": "code",
   "execution_count": null,
   "id": "171d7d4f",
   "metadata": {},
   "outputs": [],
   "source": [
    "from selenium import webdriver \n",
    "from selenium.webdriver import ActionChains\n",
    "from selenium.webdriver.common.keys import Keys\n",
    "import time\n",
    "from bs4 import BeautifulSoup\n",
    "import requests"
   ]
  },
  {
   "cell_type": "code",
   "execution_count": null,
   "id": "7649a3fd",
   "metadata": {},
   "outputs": [],
   "source": [
    "from urllib.request import urlopen\n",
    "from urllib.parse import quote_plus as qp\n",
    "import urllib.request"
   ]
  },
  {
   "cell_type": "code",
   "execution_count": null,
   "id": "f30f970b",
   "metadata": {},
   "outputs": [],
   "source": [
    "class insta:\n",
    "    def __init__(self):\n",
    "        self.url = None\n",
    "        self.path = None\n",
    "        self.driver = webdriver.Chrome()\n",
    "        \n",
    "    def set_path(self, path) :\n",
    "        self.path = path\n",
    "        \n",
    "    def set_url(self, url) :\n",
    "        self.url = url\n",
    "        \n",
    "    def login(self):\n",
    "        driver = self.driver\n",
    "        base_url = \"https://www.instagram.com/\"\n",
    "        driver.get(base_url)\n",
    "        try:\n",
    "        UserID = input(\"ID를 입력해주세요 : \")\n",
    "        UserPW = input(\"PW를 입력해주세요 : \")\n",
    "        driver.implicitly_wait(10)\n",
    "        driver.find_element_by_name(\"username\").click()\n",
    "        driver.find_element_by_name(\"username\").send_keys(UserID)\n",
    "        driver.find_element_by_name(\"password\").click()\n",
    "        driver.find_element_by_name(\"password\").send_keys(UserPW)    \n",
    "        login_button = driver.find_element_by_css_selector('#loginForm > div > div:nth-child(3) > button')  \n",
    "        act = ActionChains(driver)\n",
    "        act.click(login_button).perform()\n",
    "        time.sleep(2)\n",
    "        SCROLL_PAUSE_TIME = 1.0\n",
    "        \n",
    "        btn_later1 = driver.find_element_by_class_name('_ac8f')\n",
    "        btn_later1.click()\n",
    "        time.sleep(2)\n",
    "        \n",
    "        # 알림 설정 (\"나중에 하기 버튼 클릭\")\n",
    "        btn_later2 = driver.find_element_by_class_name('_a9--._a9_1')\n",
    "        btn_later2.click()\n",
    "        \n",
    "    def download_image(self, count, idx):\n",
    "        driver = self.driver\n",
    "        try:\n",
    "            img_src = driver.find_element_by_css_selector('div._aatk._aatl img').get_attribute('src')\n",
    "            if (img_src == None):\n",
    "                img_src = driver.find_element_by_css_selector('div._aatk._aatl div._aagv img').get_attribute('src')\n",
    "            try :\n",
    "                with urlopen(img_src) as f:\n",
    "                    with open(self.path + '/img_' + str(count)+\"_\" + str(idx) + '.jpg', 'wb') as h:\n",
    "                        img = f.read()\n",
    "                        h.write(img)\n",
    "            except:\n",
    "                print(img_src, '파일 저장 실패! \\n')\n",
    "        except Exception as e:\n",
    "            print(f'이미지 파일이 아닌 것 같습니다 아래 오류를 확인해보세요\\n{e}\\n')\n",
    "            pass\n",
    "        \n",
    "    def collect_data(self):\n",
    "        url = self.url\n",
    "        driver = self.driver\n",
    "        #원하는 사이트로 이동\n",
    "        driver.get(url)\n",
    "        time.sleep(2)\n",
    "        SCROLL_PAUSE_TIME = 2.0\n",
    "        first_content = driver.find_element_by_css_selector('div._aagu').click()\n",
    "        time.sleep(2)\n",
    "        count = 1 \n",
    "        while True:\n",
    "            print(f'{count} 번째 게시글 이미지 추출 시작 ..')\n",
    "            n = 0\n",
    "            while True:\n",
    "                try:\n",
    "                    self.download_image(count, n)\n",
    "                    time.sleep(2.0)\n",
    "                    driver.find_element_by_css_selector('button._afxw').click()\n",
    "                    time.sleep(4.0)\n",
    "                    n += 1\n",
    "                except:\n",
    "                    break\n",
    "            try:\n",
    "                driver.find_element_by_css_selector('div._aaqg._aaqh > button').click()\n",
    "                time.sleep(2.5)\n",
    "                count += 1\n",
    "            except:\n",
    "                print('다음 게시글이 없습니다!')\n",
    "                break\n",
    "        \n",
    "        "
   ]
  },
  {
   "cell_type": "code",
   "execution_count": null,
   "id": "a2027d2a",
   "metadata": {},
   "outputs": [],
   "source": [
    "crawler = insta()\n",
    "crawler.set_path(path = '')\n",
    "crawler.set_url(\"\")\n",
    "crawler.login()\n",
    "crawler.collect_data()"
   ]
  }
 ],
 "metadata": {
  "kernelspec": {
   "display_name": "Python 3 (ipykernel)",
   "language": "python",
   "name": "python3"
  },
  "language_info": {
   "codemirror_mode": {
    "name": "ipython",
    "version": 3
   },
   "file_extension": ".py",
   "mimetype": "text/x-python",
   "name": "python",
   "nbconvert_exporter": "python",
   "pygments_lexer": "ipython3",
   "version": "3.9.13"
  }
 },
 "nbformat": 4,
 "nbformat_minor": 5
}
